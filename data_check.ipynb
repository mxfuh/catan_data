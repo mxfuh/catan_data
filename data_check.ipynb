{
 "cells": [
  {
   "cell_type": "code",
   "execution_count": 24,
   "id": "5720324b",
   "metadata": {},
   "outputs": [],
   "source": [
    "import numpy as np\n",
    "import pandas as pd\n",
    "import streamlit as st\n",
    "import plotly.express as px\n",
    "import plotly.graph_objects as go# Get unique years and players\n",
    "\n",
    "from catan_functions import fit_excel_into_df\n",
    "from catan_functions import create_hover_data\n",
    "\n",
    "import re"
   ]
  },
  {
   "cell_type": "code",
   "execution_count": 26,
   "id": "f557f160-3ede-4944-8234-2d2c4c931618",
   "metadata": {},
   "outputs": [
    {
     "name": "stderr",
     "output_type": "stream",
     "text": [
      "C:\\Users\\maxfu\\AppData\\Local\\Programs\\Python\\Python313\\Lib\\site-packages\\openpyxl\\worksheet\\_reader.py:329: UserWarning: Data Validation extension is not supported and will be removed\n",
      "  warn(msg)\n",
      "C:\\Users\\maxfu\\AppData\\Local\\Programs\\Python\\Python313\\Lib\\site-packages\\openpyxl\\worksheet\\_reader.py:329: UserWarning: Data Validation extension is not supported and will be removed\n",
      "  warn(msg)\n"
     ]
    }
   ],
   "source": [
    "data = fit_excel_into_df(\"catan_data.xlsx\")"
   ]
  },
  {
   "cell_type": "code",
   "execution_count": 27,
   "id": "18c34e1b-90bf-4042-b501-224d8fb567f8",
   "metadata": {},
   "outputs": [
    {
     "data": {
      "text/html": [
       "<div>\n",
       "<style scoped>\n",
       "    .dataframe tbody tr th:only-of-type {\n",
       "        vertical-align: middle;\n",
       "    }\n",
       "\n",
       "    .dataframe tbody tr th {\n",
       "        vertical-align: top;\n",
       "    }\n",
       "\n",
       "    .dataframe thead th {\n",
       "        text-align: right;\n",
       "    }\n",
       "</style>\n",
       "<table border=\"1\" class=\"dataframe\">\n",
       "  <thead>\n",
       "    <tr style=\"text-align: right;\">\n",
       "      <th></th>\n",
       "      <th>season</th>\n",
       "      <th>Session</th>\n",
       "      <th>game</th>\n",
       "      <th>loc</th>\n",
       "      <th>geoloc</th>\n",
       "      <th>player</th>\n",
       "      <th>score</th>\n",
       "      <th>special</th>\n",
       "      <th>place</th>\n",
       "      <th>position</th>\n",
       "      <th>...</th>\n",
       "      <th>t_sum_ore</th>\n",
       "      <th>t_sum_paper</th>\n",
       "      <th>t_sum_coin</th>\n",
       "      <th>t_sum_fabric</th>\n",
       "      <th>game_id</th>\n",
       "      <th>latitude</th>\n",
       "      <th>longitude</th>\n",
       "      <th>points</th>\n",
       "      <th>points_cum</th>\n",
       "      <th>points_cum_ytd</th>\n",
       "    </tr>\n",
       "  </thead>\n",
       "  <tbody>\n",
       "    <tr>\n",
       "      <th>1</th>\n",
       "      <td>2022</td>\n",
       "      <td>2022-03-19 00:00:00</td>\n",
       "      <td>1</td>\n",
       "      <td>Husum (Memeler Str.)</td>\n",
       "      <td>54.491864, 9.030382</td>\n",
       "      <td>PF</td>\n",
       "      <td>7</td>\n",
       "      <td>NaN</td>\n",
       "      <td>2</td>\n",
       "      <td>first</td>\n",
       "      <td>...</td>\n",
       "      <td>13</td>\n",
       "      <td>5</td>\n",
       "      <td>3</td>\n",
       "      <td>11</td>\n",
       "      <td>202201</td>\n",
       "      <td>54.491864</td>\n",
       "      <td>9.030382</td>\n",
       "      <td>1</td>\n",
       "      <td>1.0</td>\n",
       "      <td>1.0</td>\n",
       "    </tr>\n",
       "    <tr>\n",
       "      <th>2</th>\n",
       "      <td>2022</td>\n",
       "      <td>2022-03-19 00:00:00</td>\n",
       "      <td>1</td>\n",
       "      <td>Husum (Memeler Str.)</td>\n",
       "      <td>54.491864, 9.030382</td>\n",
       "      <td>MF</td>\n",
       "      <td>14</td>\n",
       "      <td>NaN</td>\n",
       "      <td>1</td>\n",
       "      <td>second</td>\n",
       "      <td>...</td>\n",
       "      <td>13</td>\n",
       "      <td>5</td>\n",
       "      <td>3</td>\n",
       "      <td>11</td>\n",
       "      <td>202201</td>\n",
       "      <td>54.491864</td>\n",
       "      <td>9.030382</td>\n",
       "      <td>2</td>\n",
       "      <td>2.0</td>\n",
       "      <td>2.0</td>\n",
       "    </tr>\n",
       "    <tr>\n",
       "      <th>3</th>\n",
       "      <td>2022</td>\n",
       "      <td>2022-03-19 00:00:00</td>\n",
       "      <td>1</td>\n",
       "      <td>Husum (Memeler Str.)</td>\n",
       "      <td>54.491864, 9.030382</td>\n",
       "      <td>JHC</td>\n",
       "      <td>5</td>\n",
       "      <td>NaN</td>\n",
       "      <td>3</td>\n",
       "      <td>third</td>\n",
       "      <td>...</td>\n",
       "      <td>13</td>\n",
       "      <td>5</td>\n",
       "      <td>3</td>\n",
       "      <td>11</td>\n",
       "      <td>202201</td>\n",
       "      <td>54.491864</td>\n",
       "      <td>9.030382</td>\n",
       "      <td>0</td>\n",
       "      <td>0.0</td>\n",
       "      <td>0.0</td>\n",
       "    </tr>\n",
       "    <tr>\n",
       "      <th>4</th>\n",
       "      <td>2022</td>\n",
       "      <td>2022-03-19 00:00:00</td>\n",
       "      <td>2</td>\n",
       "      <td>Husum (Memeler Str.)</td>\n",
       "      <td>54.491864, 9.030382</td>\n",
       "      <td>JHC</td>\n",
       "      <td>7</td>\n",
       "      <td>NaN</td>\n",
       "      <td>2</td>\n",
       "      <td>first</td>\n",
       "      <td>...</td>\n",
       "      <td>13</td>\n",
       "      <td>5</td>\n",
       "      <td>6</td>\n",
       "      <td>6</td>\n",
       "      <td>202202</td>\n",
       "      <td>54.491864</td>\n",
       "      <td>9.030382</td>\n",
       "      <td>1</td>\n",
       "      <td>1.0</td>\n",
       "      <td>1.0</td>\n",
       "    </tr>\n",
       "    <tr>\n",
       "      <th>5</th>\n",
       "      <td>2022</td>\n",
       "      <td>2022-03-19 00:00:00</td>\n",
       "      <td>2</td>\n",
       "      <td>Husum (Memeler Str.)</td>\n",
       "      <td>54.491864, 9.030382</td>\n",
       "      <td>MF</td>\n",
       "      <td>13</td>\n",
       "      <td>NaN</td>\n",
       "      <td>1</td>\n",
       "      <td>second</td>\n",
       "      <td>...</td>\n",
       "      <td>13</td>\n",
       "      <td>5</td>\n",
       "      <td>6</td>\n",
       "      <td>6</td>\n",
       "      <td>202202</td>\n",
       "      <td>54.491864</td>\n",
       "      <td>9.030382</td>\n",
       "      <td>2</td>\n",
       "      <td>4.0</td>\n",
       "      <td>4.0</td>\n",
       "    </tr>\n",
       "    <tr>\n",
       "      <th>...</th>\n",
       "      <td>...</td>\n",
       "      <td>...</td>\n",
       "      <td>...</td>\n",
       "      <td>...</td>\n",
       "      <td>...</td>\n",
       "      <td>...</td>\n",
       "      <td>...</td>\n",
       "      <td>...</td>\n",
       "      <td>...</td>\n",
       "      <td>...</td>\n",
       "      <td>...</td>\n",
       "      <td>...</td>\n",
       "      <td>...</td>\n",
       "      <td>...</td>\n",
       "      <td>...</td>\n",
       "      <td>...</td>\n",
       "      <td>...</td>\n",
       "      <td>...</td>\n",
       "      <td>...</td>\n",
       "      <td>...</td>\n",
       "      <td>...</td>\n",
       "    </tr>\n",
       "    <tr>\n",
       "      <th>287</th>\n",
       "      <td>2024</td>\n",
       "      <td>2024-12-20 00:00:00</td>\n",
       "      <td>44</td>\n",
       "      <td>Husum (Memeler Str.)</td>\n",
       "      <td>54.491864, 9.030382</td>\n",
       "      <td>MF</td>\n",
       "      <td>5</td>\n",
       "      <td>1</td>\n",
       "      <td>3</td>\n",
       "      <td>second</td>\n",
       "      <td>...</td>\n",
       "      <td>17</td>\n",
       "      <td>11</td>\n",
       "      <td>0</td>\n",
       "      <td>5</td>\n",
       "      <td>202444</td>\n",
       "      <td>54.491864</td>\n",
       "      <td>9.030382</td>\n",
       "      <td>0</td>\n",
       "      <td>77.0</td>\n",
       "      <td>44.0</td>\n",
       "    </tr>\n",
       "    <tr>\n",
       "      <th>288</th>\n",
       "      <td>2024</td>\n",
       "      <td>2024-12-20 00:00:00</td>\n",
       "      <td>44</td>\n",
       "      <td>Husum (Memeler Str.)</td>\n",
       "      <td>54.491864, 9.030382</td>\n",
       "      <td>PF</td>\n",
       "      <td>13</td>\n",
       "      <td>5</td>\n",
       "      <td>1</td>\n",
       "      <td>third</td>\n",
       "      <td>...</td>\n",
       "      <td>17</td>\n",
       "      <td>11</td>\n",
       "      <td>0</td>\n",
       "      <td>5</td>\n",
       "      <td>202444</td>\n",
       "      <td>54.491864</td>\n",
       "      <td>9.030382</td>\n",
       "      <td>2</td>\n",
       "      <td>110.0</td>\n",
       "      <td>44.0</td>\n",
       "    </tr>\n",
       "    <tr>\n",
       "      <th>289</th>\n",
       "      <td>2024</td>\n",
       "      <td>2024-12-20 00:00:00</td>\n",
       "      <td>45</td>\n",
       "      <td>Husum (Memeler Str.)</td>\n",
       "      <td>54.491864, 9.030382</td>\n",
       "      <td>JHC</td>\n",
       "      <td>13</td>\n",
       "      <td>5</td>\n",
       "      <td>1</td>\n",
       "      <td>first</td>\n",
       "      <td>...</td>\n",
       "      <td>9</td>\n",
       "      <td>7</td>\n",
       "      <td>3</td>\n",
       "      <td>9</td>\n",
       "      <td>202445</td>\n",
       "      <td>54.491864</td>\n",
       "      <td>9.030382</td>\n",
       "      <td>2</td>\n",
       "      <td>103.0</td>\n",
       "      <td>46.0</td>\n",
       "    </tr>\n",
       "    <tr>\n",
       "      <th>290</th>\n",
       "      <td>2024</td>\n",
       "      <td>2024-12-20 00:00:00</td>\n",
       "      <td>45</td>\n",
       "      <td>Husum (Memeler Str.)</td>\n",
       "      <td>54.491864, 9.030382</td>\n",
       "      <td>MF</td>\n",
       "      <td>10</td>\n",
       "      <td>2</td>\n",
       "      <td>2</td>\n",
       "      <td>second</td>\n",
       "      <td>...</td>\n",
       "      <td>9</td>\n",
       "      <td>7</td>\n",
       "      <td>3</td>\n",
       "      <td>9</td>\n",
       "      <td>202445</td>\n",
       "      <td>54.491864</td>\n",
       "      <td>9.030382</td>\n",
       "      <td>1</td>\n",
       "      <td>78.0</td>\n",
       "      <td>45.0</td>\n",
       "    </tr>\n",
       "    <tr>\n",
       "      <th>291</th>\n",
       "      <td>2024</td>\n",
       "      <td>2024-12-20 00:00:00</td>\n",
       "      <td>45</td>\n",
       "      <td>Husum (Memeler Str.)</td>\n",
       "      <td>54.491864, 9.030382</td>\n",
       "      <td>PF</td>\n",
       "      <td>9</td>\n",
       "      <td>2</td>\n",
       "      <td>3</td>\n",
       "      <td>third</td>\n",
       "      <td>...</td>\n",
       "      <td>9</td>\n",
       "      <td>7</td>\n",
       "      <td>3</td>\n",
       "      <td>9</td>\n",
       "      <td>202445</td>\n",
       "      <td>54.491864</td>\n",
       "      <td>9.030382</td>\n",
       "      <td>0</td>\n",
       "      <td>110.0</td>\n",
       "      <td>44.0</td>\n",
       "    </tr>\n",
       "  </tbody>\n",
       "</table>\n",
       "<p>291 rows × 48 columns</p>\n",
       "</div>"
      ],
      "text/plain": [
       "    season              Session game                   loc  \\\n",
       "1     2022  2022-03-19 00:00:00    1  Husum (Memeler Str.)   \n",
       "2     2022  2022-03-19 00:00:00    1  Husum (Memeler Str.)   \n",
       "3     2022  2022-03-19 00:00:00    1  Husum (Memeler Str.)   \n",
       "4     2022  2022-03-19 00:00:00    2  Husum (Memeler Str.)   \n",
       "5     2022  2022-03-19 00:00:00    2  Husum (Memeler Str.)   \n",
       "..     ...                  ...  ...                   ...   \n",
       "287   2024  2024-12-20 00:00:00   44  Husum (Memeler Str.)   \n",
       "288   2024  2024-12-20 00:00:00   44  Husum (Memeler Str.)   \n",
       "289   2024  2024-12-20 00:00:00   45  Husum (Memeler Str.)   \n",
       "290   2024  2024-12-20 00:00:00   45  Husum (Memeler Str.)   \n",
       "291   2024  2024-12-20 00:00:00   45  Husum (Memeler Str.)   \n",
       "\n",
       "                  geoloc player score special place position  ... t_sum_ore  \\\n",
       "1    54.491864, 9.030382     PF     7     NaN     2    first  ...        13   \n",
       "2    54.491864, 9.030382     MF    14     NaN     1   second  ...        13   \n",
       "3    54.491864, 9.030382    JHC     5     NaN     3    third  ...        13   \n",
       "4    54.491864, 9.030382    JHC     7     NaN     2    first  ...        13   \n",
       "5    54.491864, 9.030382     MF    13     NaN     1   second  ...        13   \n",
       "..                   ...    ...   ...     ...   ...      ...  ...       ...   \n",
       "287  54.491864, 9.030382     MF     5       1     3   second  ...        17   \n",
       "288  54.491864, 9.030382     PF    13       5     1    third  ...        17   \n",
       "289  54.491864, 9.030382    JHC    13       5     1    first  ...         9   \n",
       "290  54.491864, 9.030382     MF    10       2     2   second  ...         9   \n",
       "291  54.491864, 9.030382     PF     9       2     3    third  ...         9   \n",
       "\n",
       "    t_sum_paper t_sum_coin t_sum_fabric game_id   latitude longitude points  \\\n",
       "1             5          3           11  202201  54.491864  9.030382      1   \n",
       "2             5          3           11  202201  54.491864  9.030382      2   \n",
       "3             5          3           11  202201  54.491864  9.030382      0   \n",
       "4             5          6            6  202202  54.491864  9.030382      1   \n",
       "5             5          6            6  202202  54.491864  9.030382      2   \n",
       "..          ...        ...          ...     ...        ...       ...    ...   \n",
       "287          11          0            5  202444  54.491864  9.030382      0   \n",
       "288          11          0            5  202444  54.491864  9.030382      2   \n",
       "289           7          3            9  202445  54.491864  9.030382      2   \n",
       "290           7          3            9  202445  54.491864  9.030382      1   \n",
       "291           7          3            9  202445  54.491864  9.030382      0   \n",
       "\n",
       "    points_cum points_cum_ytd  \n",
       "1          1.0            1.0  \n",
       "2          2.0            2.0  \n",
       "3          0.0            0.0  \n",
       "4          1.0            1.0  \n",
       "5          4.0            4.0  \n",
       "..         ...            ...  \n",
       "287       77.0           44.0  \n",
       "288      110.0           44.0  \n",
       "289      103.0           46.0  \n",
       "290       78.0           45.0  \n",
       "291      110.0           44.0  \n",
       "\n",
       "[291 rows x 48 columns]"
      ]
     },
     "execution_count": 27,
     "metadata": {},
     "output_type": "execute_result"
    }
   ],
   "source": [
    "data"
   ]
  },
  {
   "cell_type": "code",
   "execution_count": 29,
   "id": "68773dd8-6c96-4a62-b590-24e1e604eceb",
   "metadata": {},
   "outputs": [
    {
     "data": {
      "application/vnd.plotly.v1+json": {
       "config": {
        "plotlyServerURL": "https://plot.ly"
       },
       "data": [
        {
         "line": {
          "color": "#075eb5"
         },
         "marker": {
          "color": "#075eb5"
         },
         "mode": "lines+markers",
         "name": "PF",
         "type": "scatter",
         "visible": true,
         "x": [
          1,
          2,
          3,
          4,
          5,
          6,
          7,
          8,
          9,
          10,
          11,
          12,
          13,
          14,
          15,
          16,
          17,
          18,
          19,
          20,
          21,
          22,
          23,
          24,
          25,
          26,
          27,
          28,
          29,
          30
         ],
         "y": [
          1,
          1,
          1,
          3,
          5,
          6,
          7,
          9,
          11,
          11,
          13,
          15,
          17,
          18,
          20,
          22,
          24,
          24,
          26,
          26,
          28,
          29,
          30,
          32,
          33,
          33,
          34,
          36,
          37,
          39
         ]
        },
        {
         "line": {
          "color": "#FFD700"
         },
         "marker": {
          "color": "#FFD700"
         },
         "mode": "lines+markers",
         "name": "MF",
         "type": "scatter",
         "visible": true,
         "x": [
          1,
          2,
          3,
          4,
          5,
          6,
          7,
          8,
          9,
          10,
          11,
          12,
          13,
          14,
          15,
          16,
          17,
          18,
          19,
          20,
          21,
          22,
          23,
          24,
          25,
          26,
          27,
          28,
          29,
          30
         ],
         "y": [
          2,
          4,
          5,
          6,
          7,
          7,
          7,
          7,
          7,
          8,
          9,
          9,
          10,
          10,
          10,
          10,
          10,
          11,
          11,
          12,
          12,
          12,
          14,
          14,
          14,
          15,
          15,
          15,
          17,
          18
         ]
        },
        {
         "line": {
          "color": "#FF4500"
         },
         "marker": {
          "color": "#FF4500"
         },
         "mode": "lines+markers",
         "name": "JHC",
         "type": "scatter",
         "visible": true,
         "x": [
          1,
          2,
          3,
          4,
          5,
          6,
          7,
          8,
          9,
          10,
          11,
          12,
          13,
          14,
          15,
          16,
          17,
          18,
          19,
          20,
          21,
          22,
          23,
          24,
          25,
          26,
          27,
          28,
          29,
          30
         ],
         "y": [
          0,
          1,
          3,
          3,
          3,
          5,
          7,
          8,
          9,
          11,
          11,
          12,
          12,
          14,
          15,
          16,
          17,
          19,
          20,
          22,
          23,
          25,
          25,
          26,
          28,
          30,
          32,
          33,
          33,
          33
         ]
        },
        {
         "line": {
          "color": "#075eb5"
         },
         "marker": {
          "color": "#075eb5"
         },
         "mode": "lines+markers",
         "name": "PF",
         "type": "scatter",
         "visible": false,
         "x": [
          1,
          2,
          3,
          4,
          5,
          6,
          7,
          8,
          9,
          10,
          11,
          12,
          13,
          14,
          15,
          16,
          17,
          18,
          19,
          20,
          21,
          22
         ],
         "y": [
          2,
          3,
          5,
          6,
          7,
          7,
          9,
          10,
          12,
          13,
          13,
          15,
          15,
          16,
          18,
          20,
          21,
          21,
          23,
          25,
          26,
          27
         ]
        },
        {
         "line": {
          "color": "#FFD700"
         },
         "marker": {
          "color": "#FFD700"
         },
         "mode": "lines+markers",
         "name": "MF",
         "type": "scatter",
         "visible": false,
         "x": [
          1,
          2,
          3,
          4,
          5,
          6,
          7,
          8,
          9,
          10,
          11,
          12,
          13,
          14,
          15,
          16,
          17,
          18,
          19,
          20,
          21,
          22
         ],
         "y": [
          0,
          2,
          2,
          2,
          4,
          6,
          7,
          7,
          7,
          7,
          8,
          8,
          9,
          9,
          10,
          11,
          11,
          13,
          13,
          13,
          15,
          15
         ]
        },
        {
         "line": {
          "color": "#FF4500"
         },
         "marker": {
          "color": "#FF4500"
         },
         "mode": "lines+markers",
         "name": "JHC",
         "type": "scatter",
         "visible": false,
         "x": [
          1,
          2,
          3,
          4,
          5,
          6,
          7,
          8,
          9,
          10,
          11,
          12,
          13,
          14,
          15,
          16,
          17,
          18,
          19,
          20,
          21,
          22
         ],
         "y": [
          1,
          1,
          2,
          4,
          4,
          5,
          5,
          7,
          8,
          10,
          12,
          13,
          15,
          17,
          17,
          17,
          19,
          20,
          21,
          22,
          22,
          24
         ]
        },
        {
         "line": {
          "color": "#075eb5"
         },
         "marker": {
          "color": "#075eb5"
         },
         "mode": "lines+markers",
         "name": "PF",
         "type": "scatter",
         "visible": false,
         "x": [
          1,
          2,
          3,
          4,
          5,
          6,
          7,
          8,
          9,
          10,
          11,
          12,
          13,
          14,
          15,
          16,
          17,
          18,
          19,
          20,
          21,
          22,
          23,
          24,
          25,
          26,
          27,
          28,
          29,
          30,
          31,
          32,
          33,
          34,
          35,
          36,
          37,
          38,
          39,
          40,
          41,
          42,
          43,
          44,
          45
         ],
         "y": [
          1,
          2,
          4,
          4,
          6,
          6,
          7,
          9,
          10,
          10,
          12,
          14,
          14,
          16,
          16,
          17,
          19,
          19,
          20,
          21,
          21,
          22,
          23,
          25,
          27,
          27,
          27,
          28,
          28,
          29,
          29,
          31,
          31,
          33,
          33,
          33,
          34,
          36,
          37,
          38,
          39,
          40,
          42,
          44,
          44
         ]
        },
        {
         "line": {
          "color": "#FFD700"
         },
         "marker": {
          "color": "#FFD700"
         },
         "mode": "lines+markers",
         "name": "MF",
         "type": "scatter",
         "visible": false,
         "x": [
          1,
          2,
          3,
          4,
          5,
          6,
          7,
          8,
          9,
          10,
          11,
          12,
          13,
          14,
          15,
          16,
          17,
          18,
          19,
          20,
          21,
          22,
          23,
          24,
          25,
          26,
          27,
          28,
          29,
          30,
          31,
          32,
          33,
          34,
          35,
          36,
          37,
          38,
          39,
          40,
          41,
          42,
          43,
          44,
          45
         ],
         "y": [
          0,
          0,
          0,
          1,
          1,
          3,
          5,
          6,
          8,
          10,
          11,
          12,
          13,
          13,
          14,
          16,
          16,
          18,
          20,
          22,
          23,
          25,
          27,
          28,
          28,
          30,
          31,
          33,
          34,
          34,
          36,
          36,
          37,
          37,
          39,
          40,
          40,
          40,
          40,
          42,
          44,
          44,
          44,
          44,
          45
         ]
        },
        {
         "line": {
          "color": "#FF4500"
         },
         "marker": {
          "color": "#FF4500"
         },
         "mode": "lines+markers",
         "name": "JHC",
         "type": "scatter",
         "visible": false,
         "x": [
          1,
          2,
          3,
          4,
          5,
          6,
          7,
          8,
          9,
          10,
          11,
          12,
          13,
          14,
          15,
          16,
          17,
          18,
          19,
          20,
          21,
          22,
          23,
          24,
          25,
          26,
          27,
          28,
          29,
          30,
          31,
          32,
          33,
          34,
          35,
          36,
          37,
          38,
          39,
          40,
          41,
          42,
          43,
          44,
          45
         ],
         "y": [
          2,
          4,
          5,
          7,
          8,
          9,
          9,
          9,
          9,
          10,
          10,
          10,
          12,
          13,
          15,
          15,
          16,
          17,
          17,
          17,
          19,
          19,
          19,
          19,
          20,
          21,
          23,
          23,
          25,
          27,
          28,
          29,
          31,
          32,
          33,
          35,
          37,
          38,
          40,
          40,
          40,
          42,
          43,
          44,
          46
         ]
        }
       ],
       "layout": {
        "template": {
         "data": {
          "candlestick": [
           {
            "decreasing": {
             "line": {
              "color": "#000033"
             }
            },
            "increasing": {
             "line": {
              "color": "#000032"
             }
            },
            "type": "candlestick"
           }
          ],
          "contour": [
           {
            "colorscale": [
             [
              0,
              "#000011"
             ],
             [
              0.1111111111111111,
              "#000012"
             ],
             [
              0.2222222222222222,
              "#000013"
             ],
             [
              0.3333333333333333,
              "#000014"
             ],
             [
              0.4444444444444444,
              "#000015"
             ],
             [
              0.5555555555555556,
              "#000016"
             ],
             [
              0.6666666666666666,
              "#000017"
             ],
             [
              0.7777777777777778,
              "#000018"
             ],
             [
              0.8888888888888888,
              "#000019"
             ],
             [
              1,
              "#000020"
             ]
            ],
            "type": "contour"
           }
          ],
          "contourcarpet": [
           {
            "colorscale": [
             [
              0,
              "#000011"
             ],
             [
              0.1111111111111111,
              "#000012"
             ],
             [
              0.2222222222222222,
              "#000013"
             ],
             [
              0.3333333333333333,
              "#000014"
             ],
             [
              0.4444444444444444,
              "#000015"
             ],
             [
              0.5555555555555556,
              "#000016"
             ],
             [
              0.6666666666666666,
              "#000017"
             ],
             [
              0.7777777777777778,
              "#000018"
             ],
             [
              0.8888888888888888,
              "#000019"
             ],
             [
              1,
              "#000020"
             ]
            ],
            "type": "contourcarpet"
           }
          ],
          "heatmap": [
           {
            "colorscale": [
             [
              0,
              "#000011"
             ],
             [
              0.1111111111111111,
              "#000012"
             ],
             [
              0.2222222222222222,
              "#000013"
             ],
             [
              0.3333333333333333,
              "#000014"
             ],
             [
              0.4444444444444444,
              "#000015"
             ],
             [
              0.5555555555555556,
              "#000016"
             ],
             [
              0.6666666666666666,
              "#000017"
             ],
             [
              0.7777777777777778,
              "#000018"
             ],
             [
              0.8888888888888888,
              "#000019"
             ],
             [
              1,
              "#000020"
             ]
            ],
            "type": "heatmap"
           }
          ],
          "histogram2d": [
           {
            "colorscale": [
             [
              0,
              "#000011"
             ],
             [
              0.1111111111111111,
              "#000012"
             ],
             [
              0.2222222222222222,
              "#000013"
             ],
             [
              0.3333333333333333,
              "#000014"
             ],
             [
              0.4444444444444444,
              "#000015"
             ],
             [
              0.5555555555555556,
              "#000016"
             ],
             [
              0.6666666666666666,
              "#000017"
             ],
             [
              0.7777777777777778,
              "#000018"
             ],
             [
              0.8888888888888888,
              "#000019"
             ],
             [
              1,
              "#000020"
             ]
            ],
            "type": "histogram2d"
           }
          ],
          "icicle": [
           {
            "textfont": {
             "color": "white"
            },
            "type": "icicle"
           }
          ],
          "sankey": [
           {
            "textfont": {
             "color": "#000036"
            },
            "type": "sankey"
           }
          ],
          "scatter": [
           {
            "marker": {
             "line": {
              "width": 0
             }
            },
            "type": "scatter"
           }
          ],
          "table": [
           {
            "cells": {
             "fill": {
              "color": "#000038"
             },
             "font": {
              "color": "#000037"
             },
             "line": {
              "color": "#000039"
             }
            },
            "header": {
             "fill": {
              "color": "#000040"
             },
             "font": {
              "color": "#000036"
             },
             "line": {
              "color": "#000039"
             }
            },
            "type": "table"
           }
          ],
          "waterfall": [
           {
            "connector": {
             "line": {
              "color": "#000036",
              "width": 2
             }
            },
            "decreasing": {
             "marker": {
              "color": "#000033"
             }
            },
            "increasing": {
             "marker": {
              "color": "#000032"
             }
            },
            "totals": {
             "marker": {
              "color": "#000034"
             }
            },
            "type": "waterfall"
           }
          ]
         },
         "layout": {
          "coloraxis": {
           "colorscale": [
            [
             0,
             "#000011"
            ],
            [
             0.1111111111111111,
             "#000012"
            ],
            [
             0.2222222222222222,
             "#000013"
            ],
            [
             0.3333333333333333,
             "#000014"
            ],
            [
             0.4444444444444444,
             "#000015"
            ],
            [
             0.5555555555555556,
             "#000016"
            ],
            [
             0.6666666666666666,
             "#000017"
            ],
            [
             0.7777777777777778,
             "#000018"
            ],
            [
             0.8888888888888888,
             "#000019"
            ],
            [
             1,
             "#000020"
            ]
           ]
          },
          "colorscale": {
           "diverging": [
            [
             0,
             "#000021"
            ],
            [
             0.1,
             "#000022"
            ],
            [
             0.2,
             "#000023"
            ],
            [
             0.3,
             "#000024"
            ],
            [
             0.4,
             "#000025"
            ],
            [
             0.5,
             "#000026"
            ],
            [
             0.6,
             "#000027"
            ],
            [
             0.7,
             "#000028"
            ],
            [
             0.8,
             "#000029"
            ],
            [
             0.9,
             "#000030"
            ],
            [
             1,
             "#000031"
            ]
           ],
           "sequential": [
            [
             0,
             "#000011"
            ],
            [
             0.1111111111111111,
             "#000012"
            ],
            [
             0.2222222222222222,
             "#000013"
            ],
            [
             0.3333333333333333,
             "#000014"
            ],
            [
             0.4444444444444444,
             "#000015"
            ],
            [
             0.5555555555555556,
             "#000016"
            ],
            [
             0.6666666666666666,
             "#000017"
            ],
            [
             0.7777777777777778,
             "#000018"
            ],
            [
             0.8888888888888888,
             "#000019"
            ],
            [
             1,
             "#000020"
            ]
           ],
           "sequentialminus": [
            [
             0,
             "#000011"
            ],
            [
             0.1111111111111111,
             "#000012"
            ],
            [
             0.2222222222222222,
             "#000013"
            ],
            [
             0.3333333333333333,
             "#000014"
            ],
            [
             0.4444444444444444,
             "#000015"
            ],
            [
             0.5555555555555556,
             "#000016"
            ],
            [
             0.6666666666666666,
             "#000017"
            ],
            [
             0.7777777777777778,
             "#000018"
            ],
            [
             0.8888888888888888,
             "#000019"
            ],
            [
             1,
             "#000020"
            ]
           ]
          },
          "colorway": [
           "#000001",
           "#000002",
           "#000003",
           "#000004",
           "#000005",
           "#000006",
           "#000007",
           "#000008",
           "#000009",
           "#000010"
          ]
         }
        },
        "title": {
         "text": "Cumulative Points by Player"
        },
        "updatemenus": [
         {
          "buttons": [
           {
            "args": [
             {
              "visible": [
               true,
               true,
               true,
               false,
               false,
               false,
               false,
               false,
               false
              ]
             },
             {
              "title": "Cumulative Points for Year 2022"
             }
            ],
            "label": "2022",
            "method": "update"
           },
           {
            "args": [
             {
              "visible": [
               false,
               false,
               false,
               true,
               true,
               true,
               false,
               false,
               false
              ]
             },
             {
              "title": "Cumulative Points for Year 2023"
             }
            ],
            "label": "2023",
            "method": "update"
           },
           {
            "args": [
             {
              "visible": [
               false,
               false,
               false,
               false,
               false,
               false,
               true,
               true,
               true
              ]
             },
             {
              "title": "Cumulative Points for Year 2024"
             }
            ],
            "label": "2024",
            "method": "update"
           }
          ],
          "direction": "down",
          "showactive": true,
          "x": 0.1,
          "xanchor": "left",
          "y": 1.15,
          "yanchor": "top"
         }
        ]
       }
      },
      "image/png": "[encoded data removed]",
      "text/html": [
       "<div>                            <div id=\"c380d69a-6d85-4268-862d-17a460c9c13f\" class=\"plotly-graph-div\" style=\"height:525px; width:100%;\"></div>            <script type=\"text/javascript\">                require([\"plotly\"], function(Plotly) {                    window.PLOTLYENV=window.PLOTLYENV || {};                                    if (document.getElementById(\"c380d69a-6d85-4268-862d-17a460c9c13f\")) {                    Plotly.newPlot(                        \"c380d69a-6d85-4268-862d-17a460c9c13f\",                        [{\"line\":{\"color\":\"#075eb5\"},\"marker\":{\"color\":\"#075eb5\"},\"mode\":\"lines+markers\",\"name\":\"PF\",\"x\":[1,2,3,4,5,6,7,8,9,10,11,12,13,14,15,16,17,18,19,20,21,22,23,24,25,26,27,28,29,30],\"y\":[1.0,1.0,1.0,3.0,5.0,6.0,7.0,9.0,11.0,11.0,13.0,15.0,17.0,18.0,20.0,22.0,24.0,24.0,26.0,26.0,28.0,29.0,30.0,32.0,33.0,33.0,34.0,36.0,37.0,39.0],\"type\":\"scatter\",\"visible\":true},{\"line\":{\"color\":\"#FFD700\"},\"marker\":{\"color\":\"#FFD700\"},\"mode\":\"lines+markers\",\"name\":\"MF\",\"x\":[1,2,3,4,5,6,7,8,9,10,11,12,13,14,15,16,17,18,19,20,21,22,23,24,25,26,27,28,29,30],\"y\":[2.0,4.0,5.0,6.0,7.0,7.0,7.0,7.0,7.0,8.0,9.0,9.0,10.0,10.0,10.0,10.0,10.0,11.0,11.0,12.0,12.0,12.0,14.0,14.0,14.0,15.0,15.0,15.0,17.0,18.0],\"type\":\"scatter\",\"visible\":true},{\"line\":{\"color\":\"#FF4500\"},\"marker\":{\"color\":\"#FF4500\"},\"mode\":\"lines+markers\",\"name\":\"JHC\",\"x\":[1,2,3,4,5,6,7,8,9,10,11,12,13,14,15,16,17,18,19,20,21,22,23,24,25,26,27,28,29,30],\"y\":[0.0,1.0,3.0,3.0,3.0,5.0,7.0,8.0,9.0,11.0,11.0,12.0,12.0,14.0,15.0,16.0,17.0,19.0,20.0,22.0,23.0,25.0,25.0,26.0,28.0,30.0,32.0,33.0,33.0,33.0],\"type\":\"scatter\",\"visible\":true},{\"line\":{\"color\":\"#075eb5\"},\"marker\":{\"color\":\"#075eb5\"},\"mode\":\"lines+markers\",\"name\":\"PF\",\"x\":[1,2,3,4,5,6,7,8,9,10,11,12,13,14,15,16,17,18,19,20,21,22],\"y\":[2.0,3.0,5.0,6.0,7.0,7.0,9.0,10.0,12.0,13.0,13.0,15.0,15.0,16.0,18.0,20.0,21.0,21.0,23.0,25.0,26.0,27.0],\"type\":\"scatter\",\"visible\":false},{\"line\":{\"color\":\"#FFD700\"},\"marker\":{\"color\":\"#FFD700\"},\"mode\":\"lines+markers\",\"name\":\"MF\",\"x\":[1,2,3,4,5,6,7,8,9,10,11,12,13,14,15,16,17,18,19,20,21,22],\"y\":[0.0,2.0,2.0,2.0,4.0,6.0,7.0,7.0,7.0,7.0,8.0,8.0,9.0,9.0,10.0,11.0,11.0,13.0,13.0,13.0,15.0,15.0],\"type\":\"scatter\",\"visible\":false},{\"line\":{\"color\":\"#FF4500\"},\"marker\":{\"color\":\"#FF4500\"},\"mode\":\"lines+markers\",\"name\":\"JHC\",\"x\":[1,2,3,4,5,6,7,8,9,10,11,12,13,14,15,16,17,18,19,20,21,22],\"y\":[1.0,1.0,2.0,4.0,4.0,5.0,5.0,7.0,8.0,10.0,12.0,13.0,15.0,17.0,17.0,17.0,19.0,20.0,21.0,22.0,22.0,24.0],\"type\":\"scatter\",\"visible\":false},{\"line\":{\"color\":\"#075eb5\"},\"marker\":{\"color\":\"#075eb5\"},\"mode\":\"lines+markers\",\"name\":\"PF\",\"x\":[1,2,3,4,5,6,7,8,9,10,11,12,13,14,15,16,17,18,19,20,21,22,23,24,25,26,27,28,29,30,31,32,33,34,35,36,37,38,39,40,41,42,43,44,45],\"y\":[1.0,2.0,4.0,4.0,6.0,6.0,7.0,9.0,10.0,10.0,12.0,14.0,14.0,16.0,16.0,17.0,19.0,19.0,20.0,21.0,21.0,22.0,23.0,25.0,27.0,27.0,27.0,28.0,28.0,29.0,29.0,31.0,31.0,33.0,33.0,33.0,34.0,36.0,37.0,38.0,39.0,40.0,42.0,44.0,44.0],\"type\":\"scatter\",\"visible\":false},{\"line\":{\"color\":\"#FFD700\"},\"marker\":{\"color\":\"#FFD700\"},\"mode\":\"lines+markers\",\"name\":\"MF\",\"x\":[1,2,3,4,5,6,7,8,9,10,11,12,13,14,15,16,17,18,19,20,21,22,23,24,25,26,27,28,29,30,31,32,33,34,35,36,37,38,39,40,41,42,43,44,45],\"y\":[0.0,0.0,0.0,1.0,1.0,3.0,5.0,6.0,8.0,10.0,11.0,12.0,13.0,13.0,14.0,16.0,16.0,18.0,20.0,22.0,23.0,25.0,27.0,28.0,28.0,30.0,31.0,33.0,34.0,34.0,36.0,36.0,37.0,37.0,39.0,40.0,40.0,40.0,40.0,42.0,44.0,44.0,44.0,44.0,45.0],\"type\":\"scatter\",\"visible\":false},{\"line\":{\"color\":\"#FF4500\"},\"marker\":{\"color\":\"#FF4500\"},\"mode\":\"lines+markers\",\"name\":\"JHC\",\"x\":[1,2,3,4,5,6,7,8,9,10,11,12,13,14,15,16,17,18,19,20,21,22,23,24,25,26,27,28,29,30,31,32,33,34,35,36,37,38,39,40,41,42,43,44,45],\"y\":[2.0,4.0,5.0,7.0,8.0,9.0,9.0,9.0,9.0,10.0,10.0,10.0,12.0,13.0,15.0,15.0,16.0,17.0,17.0,17.0,19.0,19.0,19.0,19.0,20.0,21.0,23.0,23.0,25.0,27.0,28.0,29.0,31.0,32.0,33.0,35.0,37.0,38.0,40.0,40.0,40.0,42.0,43.0,44.0,46.0],\"type\":\"scatter\",\"visible\":false}],                        {\"template\":{\"data\":{\"candlestick\":[{\"decreasing\":{\"line\":{\"color\":\"#000033\"}},\"increasing\":{\"line\":{\"color\":\"#000032\"}},\"type\":\"candlestick\"}],\"contourcarpet\":[{\"colorscale\":[[0.0,\"#000011\"],[0.1111111111111111,\"#000012\"],[0.2222222222222222,\"#000013\"],[0.3333333333333333,\"#000014\"],[0.4444444444444444,\"#000015\"],[0.5555555555555556,\"#000016\"],[0.6666666666666666,\"#000017\"],[0.7777777777777778,\"#000018\"],[0.8888888888888888,\"#000019\"],[1.0,\"#000020\"]],\"type\":\"contourcarpet\"}],\"contour\":[{\"colorscale\":[[0.0,\"#000011\"],[0.1111111111111111,\"#000012\"],[0.2222222222222222,\"#000013\"],[0.3333333333333333,\"#000014\"],[0.4444444444444444,\"#000015\"],[0.5555555555555556,\"#000016\"],[0.6666666666666666,\"#000017\"],[0.7777777777777778,\"#000018\"],[0.8888888888888888,\"#000019\"],[1.0,\"#000020\"]],\"type\":\"contour\"}],\"heatmap\":[{\"colorscale\":[[0.0,\"#000011\"],[0.1111111111111111,\"#000012\"],[0.2222222222222222,\"#000013\"],[0.3333333333333333,\"#000014\"],[0.4444444444444444,\"#000015\"],[0.5555555555555556,\"#000016\"],[0.6666666666666666,\"#000017\"],[0.7777777777777778,\"#000018\"],[0.8888888888888888,\"#000019\"],[1.0,\"#000020\"]],\"type\":\"heatmap\"}],\"histogram2d\":[{\"colorscale\":[[0.0,\"#000011\"],[0.1111111111111111,\"#000012\"],[0.2222222222222222,\"#000013\"],[0.3333333333333333,\"#000014\"],[0.4444444444444444,\"#000015\"],[0.5555555555555556,\"#000016\"],[0.6666666666666666,\"#000017\"],[0.7777777777777778,\"#000018\"],[0.8888888888888888,\"#000019\"],[1.0,\"#000020\"]],\"type\":\"histogram2d\"}],\"icicle\":[{\"textfont\":{\"color\":\"white\"},\"type\":\"icicle\"}],\"sankey\":[{\"textfont\":{\"color\":\"#000036\"},\"type\":\"sankey\"}],\"scatter\":[{\"marker\":{\"line\":{\"width\":0}},\"type\":\"scatter\"}],\"table\":[{\"cells\":{\"fill\":{\"color\":\"#000038\"},\"font\":{\"color\":\"#000037\"},\"line\":{\"color\":\"#000039\"}},\"header\":{\"fill\":{\"color\":\"#000040\"},\"font\":{\"color\":\"#000036\"},\"line\":{\"color\":\"#000039\"}},\"type\":\"table\"}],\"waterfall\":[{\"connector\":{\"line\":{\"color\":\"#000036\",\"width\":2}},\"decreasing\":{\"marker\":{\"color\":\"#000033\"}},\"increasing\":{\"marker\":{\"color\":\"#000032\"}},\"totals\":{\"marker\":{\"color\":\"#000034\"}},\"type\":\"waterfall\"}]},\"layout\":{\"coloraxis\":{\"colorscale\":[[0.0,\"#000011\"],[0.1111111111111111,\"#000012\"],[0.2222222222222222,\"#000013\"],[0.3333333333333333,\"#000014\"],[0.4444444444444444,\"#000015\"],[0.5555555555555556,\"#000016\"],[0.6666666666666666,\"#000017\"],[0.7777777777777778,\"#000018\"],[0.8888888888888888,\"#000019\"],[1.0,\"#000020\"]]},\"colorscale\":{\"diverging\":[[0.0,\"#000021\"],[0.1,\"#000022\"],[0.2,\"#000023\"],[0.3,\"#000024\"],[0.4,\"#000025\"],[0.5,\"#000026\"],[0.6,\"#000027\"],[0.7,\"#000028\"],[0.8,\"#000029\"],[0.9,\"#000030\"],[1.0,\"#000031\"]],\"sequential\":[[0.0,\"#000011\"],[0.1111111111111111,\"#000012\"],[0.2222222222222222,\"#000013\"],[0.3333333333333333,\"#000014\"],[0.4444444444444444,\"#000015\"],[0.5555555555555556,\"#000016\"],[0.6666666666666666,\"#000017\"],[0.7777777777777778,\"#000018\"],[0.8888888888888888,\"#000019\"],[1.0,\"#000020\"]],\"sequentialminus\":[[0.0,\"#000011\"],[0.1111111111111111,\"#000012\"],[0.2222222222222222,\"#000013\"],[0.3333333333333333,\"#000014\"],[0.4444444444444444,\"#000015\"],[0.5555555555555556,\"#000016\"],[0.6666666666666666,\"#000017\"],[0.7777777777777778,\"#000018\"],[0.8888888888888888,\"#000019\"],[1.0,\"#000020\"]]},\"colorway\":[\"#000001\",\"#000002\",\"#000003\",\"#000004\",\"#000005\",\"#000006\",\"#000007\",\"#000008\",\"#000009\",\"#000010\"]}},\"updatemenus\":[{\"buttons\":[{\"args\":[{\"visible\":[true,true,true,false,false,false,false,false,false]},{\"title\":\"Cumulative Points for Year 2022\"}],\"label\":\"2022\",\"method\":\"update\"},{\"args\":[{\"visible\":[false,false,false,true,true,true,false,false,false]},{\"title\":\"Cumulative Points for Year 2023\"}],\"label\":\"2023\",\"method\":\"update\"},{\"args\":[{\"visible\":[false,false,false,false,false,false,true,true,true]},{\"title\":\"Cumulative Points for Year 2024\"}],\"label\":\"2024\",\"method\":\"update\"}],\"direction\":\"down\",\"showactive\":true,\"x\":0.1,\"xanchor\":\"left\",\"y\":1.15,\"yanchor\":\"top\"}],\"title\":{\"text\":\"Cumulative Points by Player\"}},                        {\"responsive\": true}                    ).then(function(){\n",
       "                            \n",
       "var gd = document.getElementById('c380d69a-6d85-4268-862d-17a460c9c13f');\n",
       "var x = new MutationObserver(function (mutations, observer) {{\n",
       "        var display = window.getComputedStyle(gd).display;\n",
       "        if (!display || display === 'none') {{\n",
       "            console.log([gd, 'removed!']);\n",
       "            Plotly.purge(gd);\n",
       "            observer.disconnect();\n",
       "        }}\n",
       "}});\n",
       "\n",
       "// Listen for the removal of the full notebook cells\n",
       "var notebookContainer = gd.closest('#notebook-container');\n",
       "if (notebookContainer) {{\n",
       "    x.observe(notebookContainer, {childList: true});\n",
       "}}\n",
       "\n",
       "// Listen for the clearing of the current output cell\n",
       "var outputEl = gd.closest('.output');\n",
       "if (outputEl) {{\n",
       "    x.observe(outputEl, {childList: true});\n",
       "}}\n",
       "\n",
       "                        })                };                });            </script>        </div>"
      ]
     },
     "metadata": {},
     "output_type": "display_data"
    }
   ],
   "source": [
    "# Define custom colors for each player.\n",
    "player_colors = {\n",
    "    'PF': '#075eb5',   # nice deep blue\n",
    "    'JHC': '#FF4500',     # fiery red\n",
    "    'MF': '#FFD700'  # strong and visible yellow\n",
    "}\n",
    "\n",
    "\n",
    "\n",
    "# Get unique years and players\n",
    "years = sorted(data['season'].unique())\n",
    "players = data['player'].unique()\n",
    "\n",
    "# Build the figure with one trace per (year, player) combination.\n",
    "fig = go.Figure()\n",
    "visibility_dict = {}  # to keep track of trace indices for each year\n",
    "trace_idx = 0\n",
    "\n",
    "for year in years:\n",
    "    visibility_dict[year] = []\n",
    "    for player in players:\n",
    "        # Filter data for the current year and player.\n",
    "        filtered_df = data[(data['season'] == year) & (data['player'] == player)]\n",
    "        fig.add_trace(go.Scatter(\n",
    "            x=filtered_df['game'],  # x-axis: game number within the year\n",
    "            y=filtered_df['points_cum_ytd'],  # y-axis: cumulative points for the season\n",
    "            mode='lines+markers',\n",
    "            name=player,\n",
    "            line=dict(color=player_colors.get(player, 'black')),  # set line color from the dictionary\n",
    "            marker=dict(color=player_colors.get(player, 'black'))   # set marker color as well\n",
    "        ))\n",
    "        visibility_dict[year].append(trace_idx)\n",
    "        trace_idx += 1\n",
    "\n",
    "# Create dropdown buttons to filter by year.\n",
    "dropdown_buttons = []\n",
    "for year in years:\n",
    "    # Create a list of booleans: only traces corresponding to the selected year are visible.\n",
    "    vis = [False] * trace_idx\n",
    "    for idx in visibility_dict[year]:\n",
    "        vis[idx] = True\n",
    "    dropdown_buttons.append(\n",
    "        dict(\n",
    "            label=str(year),\n",
    "            method='update',\n",
    "            args=[{'visible': vis},\n",
    "                  {'title': 'Cumulative Points for Year ' + str(year)}]\n",
    "        )\n",
    "    )\n",
    "\n",
    "# Add the update menu (dropdown) to the layout.\n",
    "fig.update_layout(\n",
    "    updatemenus=[{\n",
    "        'buttons': dropdown_buttons,\n",
    "        'direction': 'down',\n",
    "        'showactive': True,\n",
    "        'x': 0.1,\n",
    "        'y': 1.15,\n",
    "        'xanchor': 'left',\n",
    "        'yanchor': 'top'\n",
    "    }],\n",
    "    title='Cumulative Points by Player'\n",
    ")\n",
    "\n",
    "# Set initial visibility to the first year.\n",
    "initial_year = years[0]\n",
    "initial_vis = [False] * trace_idx\n",
    "for idx in visibility_dict[initial_year]:\n",
    "    initial_vis[idx] = True\n",
    "for i in range(trace_idx):\n",
    "    fig.data[i].visible = initial_vis[i]\n",
    "\n",
    "# Display the figure in your Streamlit app.\n",
    "#st.plotly_chart(fig)\n",
    "\n",
    "fig.show()"
   ]
  }
 ],
 "metadata": {
  "kernelspec": {
   "display_name": "Python 3 (ipykernel)",
   "language": "python",
   "name": "python3"
  },
  "language_info": {
   "codemirror_mode": {
    "name": "ipython",
    "version": 3
   },
   "file_extension": ".py",
   "mimetype": "text/x-python",
   "name": "python",
   "nbconvert_exporter": "python",
   "pygments_lexer": "ipython3",
   "version": "3.13.1"
  }
 },
 "nbformat": 4,
 "nbformat_minor": 5
}
