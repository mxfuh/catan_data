{
 "cells": [
  {
   "cell_type": "markdown",
   "id": "fa4b8123",
   "metadata": {},
   "source": [
    "# Imports"
   ]
  },
  {
   "cell_type": "code",
   "execution_count": 57,
   "id": "e4fe7914",
   "metadata": {},
   "outputs": [],
   "source": [
    "import numpy as np\n",
    "import pandas as pd\n",
    "import statsmodels as sm\n",
    "import sklearn as skl\n",
    "import math\n",
    "import matplotlib as mpl"
   ]
  },
  {
   "cell_type": "markdown",
   "id": "ebbcf123",
   "metadata": {},
   "source": [
    "# Einlesen und aufbereiten"
   ]
  },
  {
   "cell_type": "code",
   "execution_count": 58,
   "id": "400442f4",
   "metadata": {},
   "outputs": [
    {
     "name": "stderr",
     "output_type": "stream",
     "text": [
      "C:\\Users\\maxfu\\AppData\\Local\\Packages\\PythonSoftwareFoundation.Python.3.10_qbz5n2kfra8p0\\LocalCache\\local-packages\\Python310\\site-packages\\openpyxl\\worksheet\\_reader.py:312: UserWarning: Data Validation extension is not supported and will be removed\n",
      "  warn(msg)\n",
      "C:\\Users\\maxfu\\AppData\\Local\\Packages\\PythonSoftwareFoundation.Python.3.10_qbz5n2kfra8p0\\LocalCache\\local-packages\\Python310\\site-packages\\openpyxl\\worksheet\\_reader.py:312: UserWarning: Data Validation extension is not supported and will be removed\n",
      "  warn(msg)\n"
     ]
    }
   ],
   "source": [
    "updated_cols = pd.read_excel(\"catan_data.xlsx\").iloc[0].T\n",
    "df = pd.read_excel(\"catan_data.xlsx\")\n",
    "renamedict = dict(zip(df.columns, list(updated_cols)))\n",
    "df = df.rename(columns = renamedict).iloc[1:]"
   ]
  },
  {
   "cell_type": "code",
   "execution_count": 59,
   "id": "a9eaa9ba",
   "metadata": {},
   "outputs": [],
   "source": [
    "#numerisch machen\n",
    "for col in df.columns:\n",
    "    df[col] = pd.to_numeric(df[col],errors = \"ignore\")"
   ]
  },
  {
   "cell_type": "code",
   "execution_count": 60,
   "id": "38a3335c",
   "metadata": {},
   "outputs": [],
   "source": [
    "#variable für direkt am hafen gebaut\n",
    "df[\"port\"] = 0\n",
    "df.loc[(df[\"port_wood\"]==1) | (df[\"port_clay\"]==1) | (df[\"port_sheep\"]==1) | \n",
    "       (df[\"port_grain\"]==1 )| (df[\"port_ore\"]==1) | (df[\"port_gen\"]==1),\"hafen\"] = 1\n",
    "\n",
    "#variable für in hafennähe gebaut\n",
    "df[\"prox_port\"] = 0\n",
    "df.loc[(df[\"prox_port_wood\"]==1) | (df[\"prox_port_clay\"]==1) | (df[\"prox_port_sheep\"]==1) | \n",
    "       (df[\"prox_port_grain\"]==1 )| (df[\"prox_port_ore\"]==1) | (df[\"prox_port_gen\"]==1),\"hafen\"] = 1\n",
    "\n",
    "#binärvariablen für spieler\n",
    "for player in df[\"player\"].unique():\n",
    "    df[player] = 0\n",
    "    df.loc[df[\"player\"]==player,player] = 1\n",
    "    \n",
    "#shares berechnen\n",
    "resources = []\n",
    "for colname in [col for col in df if \"t_sum\" in col]:\n",
    "    resources.append(colname[6:])\n",
    "for resource in resources:\n",
    "    df[\"share_\"+resource] = df[\"p_sum_\"+resource] / df[\"t_sum_\"+resource]"
   ]
  },
  {
   "cell_type": "code",
   "execution_count": null,
   "id": "fae871eb",
   "metadata": {},
   "outputs": [],
   "source": []
  },
  {
   "cell_type": "markdown",
   "id": "e2d10036",
   "metadata": {},
   "source": [
    "# Auswertungen"
   ]
  },
  {
   "cell_type": "code",
   "execution_count": 20,
   "id": "dfee2a1a",
   "metadata": {
    "scrolled": true
   },
   "outputs": [
    {
     "data": {
      "text/plain": [
       "['season',\n",
       " 'Session',\n",
       " 'game',\n",
       " 'loc',\n",
       " 'player',\n",
       " 'score',\n",
       " 'special',\n",
       " 'place',\n",
       " 'position',\n",
       " 'desert',\n",
       " 'sum',\n",
       " 'count_num',\n",
       " 'count_res',\n",
       " 'p_sum_wood',\n",
       " 'p_sum_clay',\n",
       " 'p_sum_sheep',\n",
       " 'p_sum_grain',\n",
       " 'p_sum_ore',\n",
       " 'p_sum_paper',\n",
       " 'p_sum_coin',\n",
       " 'p_sum_fabric',\n",
       " 'port_wood',\n",
       " 'port_clay',\n",
       " 'port_sheep',\n",
       " 'port_grain',\n",
       " 'port_ore',\n",
       " 'port_gen',\n",
       " 'prox_port_wood',\n",
       " 'prox_port_clay',\n",
       " 'prox_port_sheep',\n",
       " 'prox_port_grain',\n",
       " 'prox_port_ore',\n",
       " 'prox_port_gen',\n",
       " 't_sum_wood',\n",
       " 't_sum_clay',\n",
       " 't_sum_sheep',\n",
       " 't_sum_grain',\n",
       " 't_sum_ore',\n",
       " 't_sum_paper',\n",
       " 't_sum_coin',\n",
       " 't_sum_fabric',\n",
       " 'hafen',\n",
       " 'PF',\n",
       " 'MF',\n",
       " 'JHC',\n",
       " 'prox_port',\n",
       " 'port',\n",
       " 'share_wood',\n",
       " 'share_clay',\n",
       " 'share_sheep',\n",
       " 'share_grain',\n",
       " 'share_ore',\n",
       " 'share_paper',\n",
       " 'share_coin',\n",
       " 'share_fabric']"
      ]
     },
     "execution_count": 20,
     "metadata": {},
     "output_type": "execute_result"
    }
   ],
   "source": [
    "[col for col in df]"
   ]
  },
  {
   "cell_type": "code",
   "execution_count": 80,
   "id": "981ef877",
   "metadata": {},
   "outputs": [],
   "source": [
    "shares = {}\n",
    "for player in df[\"player\"].unique():\n",
    "    x = []\n",
    "    for resource in resources:\n",
    "        t = df.loc[df[player]==1][\"share_\"+resource].describe()[[\"mean\",\"std\"]]\n",
    "        t = pd.DataFrame(t).T.rename(columns = {\"mean\":\"mean_\"+player,\"std\":\"std_\"+player})\n",
    "        x.append(t)\n",
    "    shares[player] = pd.concat(x)\n",
    "\n",
    "shares = pd.concat(shares.values(),axis = 1)"
   ]
  },
  {
   "cell_type": "code",
   "execution_count": 84,
   "id": "d6b8ce77",
   "metadata": {},
   "outputs": [],
   "source": [
    "shares.to_excel(\"xxv001 - resource shares by player.xlsx\")"
   ]
  },
  {
   "cell_type": "code",
   "execution_count": null,
   "id": "db0e33ef",
   "metadata": {},
   "outputs": [],
   "source": []
  }
 ],
 "metadata": {
  "kernelspec": {
   "display_name": "Python 3 (ipykernel)",
   "language": "python",
   "name": "python3"
  },
  "language_info": {
   "codemirror_mode": {
    "name": "ipython",
    "version": 3
   },
   "file_extension": ".py",
   "mimetype": "text/x-python",
   "name": "python",
   "nbconvert_exporter": "python",
   "pygments_lexer": "ipython3",
   "version": "3.10.8"
  }
 },
 "nbformat": 4,
 "nbformat_minor": 5
}
